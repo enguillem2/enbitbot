{
 "cells": [
  {
   "cell_type": "code",
   "execution_count": 1,
   "metadata": {},
   "outputs": [
    {
     "ename": "TypeError",
     "evalue": "setup_on_demand() takes 1 positional argument but 2 were given",
     "output_type": "error",
     "traceback": [
      "\u001b[0;31m---------------------------------------------------------------------------\u001b[0m",
      "\u001b[0;31mTypeError\u001b[0m                                 Traceback (most recent call last)",
      "Cell \u001b[0;32mIn[1], line 4\u001b[0m\n\u001b[1;32m      1\u001b[0m \u001b[39mfrom\u001b[39;00m \u001b[39mtradingstrategy\u001b[39;00m\u001b[39m.\u001b[39;00m\u001b[39mclient\u001b[39;00m \u001b[39mimport\u001b[39;00m Client\n\u001b[1;32m      2\u001b[0m api_key\u001b[39m=\u001b[39m\u001b[39m\"\u001b[39m\u001b[39msecret-token:tradingstrategy-b76be93516afe4be577ba20e74de24358214dd2171fb4194d6716ddf9e800f20\u001b[39m\u001b[39m\"\u001b[39m\n\u001b[0;32m----> 4\u001b[0m client \u001b[39m=\u001b[39m Client\u001b[39m.\u001b[39;49mcreate_jupyter_client()\n",
      "File \u001b[0;32m~/python/enbitbot/venv/lib/python3.9/site-packages/tradingstrategy/client.py:330\u001b[0m, in \u001b[0;36mClient.create_jupyter_client\u001b[0;34m(cls, cache_path, api_key)\u001b[0m\n\u001b[1;32m    328\u001b[0m \u001b[39mcls\u001b[39m\u001b[39m.\u001b[39msetup_notebook()\n\u001b[1;32m    329\u001b[0m env \u001b[39m=\u001b[39m JupyterEnvironment()\n\u001b[0;32m--> 330\u001b[0m config \u001b[39m=\u001b[39m env\u001b[39m.\u001b[39;49msetup_on_demand(api_key)\n\u001b[1;32m    331\u001b[0m transport \u001b[39m=\u001b[39m CachedHTTPTransport(download_with_tqdm_progress_bar, cache_path\u001b[39m=\u001b[39menv\u001b[39m.\u001b[39mget_cache_path(), api_key\u001b[39m=\u001b[39mconfig\u001b[39m.\u001b[39mapi_key)\n\u001b[1;32m    332\u001b[0m \u001b[39mreturn\u001b[39;00m Client(env, transport)\n",
      "\u001b[0;31mTypeError\u001b[0m: setup_on_demand() takes 1 positional argument but 2 were given"
     ]
    }
   ],
   "source": [
    "from tradingstrategy.client import Client\n",
    "api_key=\"secret-token:tradingstrategy-b76be93516afe4be577ba20e74de24358214dd2171fb4194d6716ddf9e800f20\"\n",
    "\n",
    "client = Client.create_jupyter_client()"
   ]
  }
 ],
 "metadata": {
  "kernelspec": {
   "display_name": "venv",
   "language": "python",
   "name": "python3"
  },
  "language_info": {
   "codemirror_mode": {
    "name": "ipython",
    "version": 3
   },
   "file_extension": ".py",
   "mimetype": "text/x-python",
   "name": "python",
   "nbconvert_exporter": "python",
   "pygments_lexer": "ipython3",
   "version": "3.9.2"
  },
  "orig_nbformat": 4
 },
 "nbformat": 4,
 "nbformat_minor": 2
}
