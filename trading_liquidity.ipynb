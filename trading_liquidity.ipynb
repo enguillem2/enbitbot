{
 "cells": [
  {
   "cell_type": "code",
   "execution_count": 2,
   "metadata": {},
   "outputs": [
    {
     "name": "stdout",
     "output_type": "stream",
     "text": [
      "Started Trading Strategy in Jupyter notebook environment, configuration is stored in /home/guillem/.tradingstrategy\n"
     ]
    },
    {
     "name": "stderr",
     "output_type": "stream",
     "text": [
      "/home/guillem/python/enbitbot/.venv/lib/python3.10/site-packages/tqdm/auto.py:21: TqdmWarning: IProgress not found. Please update jupyter and ipywidgets. See https://ipywidgets.readthedocs.io/en/stable/user_install.html\n",
      "  from .autonotebook import tqdm as notebook_tqdm\n"
     ]
    }
   ],
   "source": [
    "from tradingstrategy.client import Client\n",
    "\n",
    "client = Client.create_jupyter_client()"
   ]
  },
  {
   "cell_type": "code",
   "execution_count": 3,
   "metadata": {},
   "outputs": [
    {
     "ename": "",
     "evalue": "",
     "output_type": "error",
     "traceback": [
      "\u001b[1;31mCannot execute code, session has been disposed. Please try restarting the Kernel."
     ]
    },
    {
     "ename": "",
     "evalue": "",
     "output_type": "error",
     "traceback": [
      "\u001b[1;31mThe Kernel crashed while executing code in the the current cell or a previous cell. Please review the code in the cell(s) to identify a possible cause of the failure. Click <a href='https://aka.ms/vscodeJupyterKernelCrash'>here</a> for more info. View Jupyter <a href='command:jupyter.viewOutput'>log</a> for further details."
     ]
    }
   ],
   "source": [
    "from pyarrow import Table\n",
    "from tradingstrategy.exchange import ExchangeUniverse\n",
    "from tradingstrategy.pair import PandasPairUniverse\n",
    "from tradingstrategy.timebucket import TimeBucket\n",
    "from tradingstrategy.liquidity import GroupedLiquidityUniverse\n",
    "\n",
    "# Exchange map data is so small it does not need any decompression\n",
    "exchange_universe: ExchangeUniverse = client.fetch_exchange_universe()\n",
    "\n",
    "# Fetch all trading pairs across all exchanges\n",
    "pair_table: Table = client.fetch_pair_universe()\n",
    "pair_universe = PandasPairUniverse(pair_table.to_pandas())\n",
    "\n",
    "# GroupedLiquidityUniverse is a helper class that\n",
    "# encapsulates Pandas grouped array\n",
    "liquidity_table: Table = client.fetch_all_liquidity_samples(TimeBucket.d1)\n",
    "liquidity_universe = GroupedLiquidityUniverse(liquidity_table.to_pandas())"
   ]
  },
  {
   "cell_type": "code",
   "execution_count": 3,
   "metadata": {},
   "outputs": [
    {
     "ename": "NameError",
     "evalue": "name 'exchange_universe' is not defined",
     "output_type": "error",
     "traceback": [
      "\u001b[0;31m---------------------------------------------------------------------------\u001b[0m",
      "\u001b[0;31mNameError\u001b[0m                                 Traceback (most recent call last)",
      "Cell \u001b[0;32mIn[3], line 5\u001b[0m\n\u001b[1;32m      2\u001b[0m \u001b[39mfrom\u001b[39;00m \u001b[39mtradingstrategy\u001b[39;00m\u001b[39m.\u001b[39;00m\u001b[39mpair\u001b[39;00m \u001b[39mimport\u001b[39;00m DEXPair\n\u001b[1;32m      4\u001b[0m \u001b[39m# Filter down to pairs that only trade on Sushiswap\u001b[39;00m\n\u001b[0;32m----> 5\u001b[0m sushi_swap \u001b[39m=\u001b[39m exchange_universe\u001b[39m.\u001b[39mget_by_chain_and_slug(ChainId\u001b[39m.\u001b[39methereum, \u001b[39m\"\u001b[39m\u001b[39msushi\u001b[39m\u001b[39m\"\u001b[39m)\n\u001b[1;32m      7\u001b[0m pair: DEXPair \u001b[39m=\u001b[39m pair_universe\u001b[39m.\u001b[39mget_one_pair_from_pandas_universe(\n\u001b[1;32m      8\u001b[0m     sushi_swap\u001b[39m.\u001b[39mexchange_id,\n\u001b[1;32m      9\u001b[0m     \u001b[39m\"\u001b[39m\u001b[39mWETH\u001b[39m\u001b[39m\"\u001b[39m,\n\u001b[1;32m     10\u001b[0m     \u001b[39m\"\u001b[39m\u001b[39mUSDC\u001b[39m\u001b[39m\"\u001b[39m)\n\u001b[1;32m     12\u001b[0m eth_usdc_liquidity \u001b[39m=\u001b[39m liquidity_universe\u001b[39m.\u001b[39mget_liquidity_samples_by_pair(pair\u001b[39m.\u001b[39mpair_id)\n",
      "\u001b[0;31mNameError\u001b[0m: name 'exchange_universe' is not defined"
     ]
    }
   ],
   "source": [
    "from tradingstrategy.chain import ChainId\n",
    "from tradingstrategy.pair import DEXPair\n",
    "\n",
    "# Filter down to pairs that only trade on Sushiswap\n",
    "sushi_swap = exchange_universe.get_by_chain_and_slug(ChainId.ethereum, \"sushi\")\n",
    "\n",
    "pair: DEXPair = pair_universe.get_one_pair_from_pandas_universe(\n",
    "    sushi_swap.exchange_id,\n",
    "    \"WETH\",\n",
    "    \"USDC\")\n",
    "\n",
    "eth_usdc_liquidity = liquidity_universe.get_liquidity_samples_by_pair(pair.pair_id)"
   ]
  },
  {
   "cell_type": "code",
   "execution_count": null,
   "metadata": {},
   "outputs": [
    {
     "ename": "NameError",
     "evalue": "name 'exchange_universe' is not defined",
     "output_type": "error",
     "traceback": [
      "\u001b[0;31m---------------------------------------------------------------------------\u001b[0m",
      "\u001b[0;31mNameError\u001b[0m                                 Traceback (most recent call last)",
      "Cell \u001b[0;32mIn[2], line 5\u001b[0m\n\u001b[1;32m      2\u001b[0m \u001b[39mfrom\u001b[39;00m \u001b[39mtradingstrategy\u001b[39;00m\u001b[39m.\u001b[39;00m\u001b[39mpair\u001b[39;00m \u001b[39mimport\u001b[39;00m DEXPair\n\u001b[1;32m      4\u001b[0m \u001b[39m# Filter down to pairs that only trade on Sushiswap\u001b[39;00m\n\u001b[0;32m----> 5\u001b[0m sushi_swap \u001b[39m=\u001b[39m exchange_universe\u001b[39m.\u001b[39mget_by_chain_and_slug(ChainId\u001b[39m.\u001b[39methereum, \u001b[39m\"\u001b[39m\u001b[39msushi\u001b[39m\u001b[39m\"\u001b[39m)\n\u001b[1;32m      7\u001b[0m pair: DEXPair \u001b[39m=\u001b[39m pair_universe\u001b[39m.\u001b[39mget_one_pair_from_pandas_universe(\n\u001b[1;32m      8\u001b[0m     sushi_swap\u001b[39m.\u001b[39mexchange_id,\n\u001b[1;32m      9\u001b[0m     \u001b[39m\"\u001b[39m\u001b[39mWETH\u001b[39m\u001b[39m\"\u001b[39m,\n\u001b[1;32m     10\u001b[0m     \u001b[39m\"\u001b[39m\u001b[39mUSDC\u001b[39m\u001b[39m\"\u001b[39m)\n\u001b[1;32m     12\u001b[0m eth_usdc_liquidity \u001b[39m=\u001b[39m liquidity_universe\u001b[39m.\u001b[39mget_liquidity_samples_by_pair(pair\u001b[39m.\u001b[39mpair_id)\n",
      "\u001b[0;31mNameError\u001b[0m: name 'exchange_universe' is not defined"
     ]
    }
   ],
   "source": [
    "from tradingstrategy.chain import ChainId\n",
    "from tradingstrategy.pair import DEXPair\n",
    "\n",
    "# Filter down to pairs that only trade on Sushiswap\n",
    "sushi_swap = exchange_universe.get_by_chain_and_slug(ChainId.ethereum, \"sushi\")\n",
    "\n",
    "pair: DEXPair = pair_universe.get_one_pair_from_pandas_universe(\n",
    "    sushi_swap.exchange_id,\n",
    "    \"WETH\",\n",
    "    \"USDC\")\n",
    "\n",
    "eth_usdc_liquidity = liquidity_universe.get_liquidity_samples_by_pair(pair.pair_id)"
   ]
  },
  {
   "cell_type": "code",
   "execution_count": null,
   "metadata": {},
   "outputs": [],
   "source": []
  },
  {
   "cell_type": "code",
   "execution_count": null,
   "metadata": {},
   "outputs": [],
   "source": [
    "import datetime\n",
    "\n",
    "start = datetime.datetime(2020, 10, 1)\n",
    "end = datetime.datetime(2020, 11, 1)\n",
    "\n",
    "df = eth_usdc_liquidity[[\"open\", \"high\", \"low\", \"close\"]]\n",
    "\n",
    "def format(x):\n",
    "    return \"${:.1f}M\".format(x / 1_000_000)\n",
    "\n",
    "df = df.applymap(format)\n",
    "\n",
    "df[start:end]"
   ]
  }
 ],
 "metadata": {
  "kernelspec": {
   "display_name": ".venv",
   "language": "python",
   "name": "python3"
  },
  "language_info": {
   "codemirror_mode": {
    "name": "ipython",
    "version": 3
   },
   "file_extension": ".py",
   "mimetype": "text/x-python",
   "name": "python",
   "nbconvert_exporter": "python",
   "pygments_lexer": "ipython3",
   "version": "3.10.12"
  },
  "orig_nbformat": 4
 },
 "nbformat": 4,
 "nbformat_minor": 2
}
